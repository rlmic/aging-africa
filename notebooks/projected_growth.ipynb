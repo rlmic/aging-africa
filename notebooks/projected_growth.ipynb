{
 "cells": [
  {
   "cell_type": "code",
   "execution_count": null,
   "id": "14a0e824",
   "metadata": {},
   "outputs": [],
   "source": [
    "import matplotlib.lines as mlines\n",
    "import pandas as pd\n",
    "import matplotlib.pyplot as plt\n",
    "\n",
    "import numpy as np"
   ]
  },
  {
   "cell_type": "code",
   "execution_count": null,
   "id": "8ccd374e",
   "metadata": {},
   "outputs": [],
   "source": [
    "dat = pd.read_stata('../../../Demography of Aging in SSA/data/population_projections.dta')\n",
    "df = dat[['countryregion','growth_pop_60plus_1990to2020', 'growth_pop_60plus_2020to2050']]"
   ]
  },
  {
   "cell_type": "code",
   "execution_count": null,
   "id": "c571e466",
   "metadata": {},
   "outputs": [],
   "source": [
    "before_column='growth_pop_60plus_1990to2020'\n",
    "next_column='growth_pop_60plus_2020to2050'\n",
    "country_column='countryregion'"
   ]
  },
  {
   "cell_type": "code",
   "execution_count": null,
   "id": "10b8699d",
   "metadata": {},
   "outputs": [],
   "source": [
    "def new_line(\n",
    "    p1,\n",
    "    p2,\n",
    "    color_down=\"#000C66\",\n",
    "    color_up=\"#8eb67d\"\n",
    "):\n",
    "    ax = plt.gca()\n",
    "    l = mlines.Line2D(\n",
    "        [p1[0],p2[0]], [p1[1],p2[1]],\n",
    "        color=color_down if p1[1]-p2[1] > 0 else color_up,\n",
    "        marker='o',\n",
    "        markersize=9,\n",
    "        linewidth=4\n",
    "    )\n",
    "    ax.add_line(l)\n",
    "\n",
    "    return l\n",
    "\n",
    "def comp_grow(\n",
    "    df,\n",
    "    next_column,\n",
    "    before_column,\n",
    "    country_column,\n",
    "    size_text=23,\n",
    "    color_down=\"#000C66\",\n",
    "    color_up=\"#8eb67d\",\n",
    "    color_text=\"#14213D\"\n",
    "):\n",
    "    before = df[before_column]\n",
    "    \n",
    "    after  = df[next_column]\n",
    "\n",
    "    fig, ax = plt.subplots(1, 1,figsize=(14,25), dpi= 150)\n",
    "\n",
    "    # Line Segmentsand Annotation\n",
    "    for p1, p2, c in zip(before, after, df[country_column]):\n",
    "        if c == 'World' or c== 'Sub-Saharan Africa' :\n",
    "            anot = ''\n",
    "        else:\n",
    "            anot = c + ', ' + str(round(p1)) + '%' \n",
    "            \n",
    "        new_line([1, p1], [3, p2])\n",
    "        \n",
    "        ax.text(\n",
    "            1-0.05, \n",
    "            p1, \n",
    "            anot, \n",
    "            horizontalalignment='right', \n",
    "            verticalalignment='center', \n",
    "            fontdict={'size':size_text}\n",
    "        )\n",
    "        ax.text(\n",
    "            3+0.05,\n",
    "            p2,\n",
    "            c + ', ' + str(round(p2)) + '%' , \n",
    "            horizontalalignment='left', \n",
    "            verticalalignment='center', \n",
    "            fontdict={'size':size_text}\n",
    "        )\n",
    "\n",
    "    ax.set_title(\n",
    "        \"GROWTH IN +60 POPULATION\", \n",
    "        fontdict={'size':30}\n",
    "    )\n",
    "    ax.grid(True)\n",
    "    ax.set(\n",
    "        xlim=(-1, 5), \n",
    "        ylim=(30, 285)\n",
    "    )\n",
    "    ax.set_xticks([1,3])\n",
    "    ax.set_xticklabels(['[1990-2020]', '[2020-2050] \\n (Projected)'], fontsize=30)\n",
    "    #plt.yticks(np.arange(50, 290, 10), fontsize=14)\n",
    "    plt.yticks([])\n",
    "\n",
    "    ax.xaxis.label.set_color(color_text)\n",
    "    \n",
    "    # Lighten borders\n",
    "    plt.gca().spines[\"top\"].set_alpha(.0)\n",
    "    plt.gca().spines[\"bottom\"].set_alpha(.0)\n",
    "    plt.gca().spines[\"right\"].set_alpha(.0)\n",
    "    plt.gca().spines[\"left\"].set_alpha(.0)\n",
    "    fig.savefig('growth_plust_60.jpg')"
   ]
  },
  {
   "cell_type": "code",
   "execution_count": null,
   "id": "74226111",
   "metadata": {},
   "outputs": [],
   "source": [
    "comp_grow(\n",
    "    \n",
    "    df=df,\n",
    "    before_column='growth_pop_60plus_1990to2020',\n",
    "    next_column='growth_pop_60plus_2020to2050',\n",
    "    country_column='countryregion'\n",
    ")"
   ]
  },
  {
   "cell_type": "code",
   "execution_count": null,
   "id": "34f277ec",
   "metadata": {},
   "outputs": [],
   "source": [
    "df = dat[['countryregion','pop_60plus_1990', 'pop_60plus_2020', 'pop_60plus_2050']]"
   ]
  },
  {
   "cell_type": "code",
   "execution_count": null,
   "id": "a32420c9",
   "metadata": {},
   "outputs": [],
   "source": []
  }
 ],
 "metadata": {
  "kernelspec": {
   "display_name": "aging",
   "language": "python",
   "name": "aging"
  },
  "language_info": {
   "codemirror_mode": {
    "name": "ipython",
    "version": 3
   },
   "file_extension": ".py",
   "mimetype": "text/x-python",
   "name": "python",
   "nbconvert_exporter": "python",
   "pygments_lexer": "ipython3",
   "version": "3.9.16"
  }
 },
 "nbformat": 4,
 "nbformat_minor": 5
}
